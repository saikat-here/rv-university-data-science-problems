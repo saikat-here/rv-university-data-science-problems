{
 "cells": [
  {
   "cell_type": "code",
   "execution_count": null,
   "id": "df94e8d2",
   "metadata": {},
   "outputs": [
    {
     "name": "stdout",
     "output_type": "stream",
     "text": [
      "Generated List:  [76, 78, 80, 82, 84, 86, 88, 90, 92, 94, 96, 98, 100]\n"
     ]
    }
   ],
   "source": [
    "\n",
    "import random\n",
    "def bsearch(list_to_search, match):\n",
    "    \"\"\"\n",
    "    :param list_to_search: List of elements\n",
    "    :param match: element to search\n",
    "    :return:\n",
    "            -1 : element not found\n",
    "            > -1 : element found and this is the index of the element\n",
    "    \"\"\"\n",
    "    list_len = len(list_to_search) # getting the length of the List\n",
    "    j = list_len -1 # declaring upper limit of the search\n",
    "    i = 0 # declaring the lower limit of the search\n",
    "\n",
    "    while i <= j:\n",
    "\n",
    "        mid = (i+j) // 2 # finding the middle position of List\n",
    "\n",
    "        if x < list_to_search[mid]: # if the element is smaller than the current middle then shift left\n",
    "            j = mid - 1\n",
    "        elif x > list_to_search[mid]: # if the element is bigger than the middle then shift right\n",
    "            i = mid + 1\n",
    "        else: # found element on current middle\n",
    "            return mid\n",
    "\n",
    "    return -1 # this will execute only if element not found, so return -1\n",
    "\n",
    "\n",
    "# Generating the list starting from a random start point\n",
    "my_list = list(range(random.randint(0,100),101,2))\n",
    "\n",
    "# printing the list\n",
    "print(\"Generated List: \", my_list)\n",
    "\n",
    "# taking element input to search\n",
    "while True:\n",
    "    try:\n",
    "        x = int(input(\"Please enter the number to search: \"))\n",
    "\n",
    "        if x < 0 or x > 100: # the element have to be in range from 0 to 100\n",
    "            raise ValueError() # if it's not in range 0 to 100, throwing exception to take the input again\n",
    "\n",
    "    except ValueError:\n",
    "        # catching the ValueError exception that can occur if input is not convertible to int\n",
    "        # or it's not in range from 0 to 100\n",
    "        print(\"Invalid input. Please try again\")\n",
    "        continue # if exception occur then will continue the look again to take the input as this input is invalid\n",
    "\n",
    "    break # if everything is good then break the loop and go ahead\n",
    "\n",
    "# calling the search method to search the element from the List\n",
    "indx = bsearch(my_list, x)\n",
    "\n",
    "if indx == -1: # if it's returned -1 then element not found\n",
    "    print(\"Element not found\")\n",
    "else: # if not -1 then function found the element\n",
    "    print(f\"Element found at index {indx}\")\n"
   ]
  },
  {
   "cell_type": "code",
   "execution_count": null,
   "id": "3f7bb3de",
   "metadata": {},
   "outputs": [],
   "source": []
  }
 ],
 "metadata": {
  "kernelspec": {
   "display_name": "Python 3 (ipykernel)",
   "language": "python",
   "name": "python3"
  },
  "language_info": {
   "codemirror_mode": {
    "name": "ipython",
    "version": 3
   },
   "file_extension": ".py",
   "mimetype": "text/x-python",
   "name": "python",
   "nbconvert_exporter": "python",
   "pygments_lexer": "ipython3",
   "version": "3.11.5"
  }
 },
 "nbformat": 4,
 "nbformat_minor": 5
}
