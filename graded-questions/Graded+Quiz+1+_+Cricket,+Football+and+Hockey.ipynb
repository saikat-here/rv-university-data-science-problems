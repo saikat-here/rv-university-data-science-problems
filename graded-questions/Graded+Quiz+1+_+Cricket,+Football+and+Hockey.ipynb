{
  "cells": [
    {
      "cell_type": "markdown",
      "metadata": {
        "id": "plaiZr_N1tef"
      },
      "source": [
        "In a school, there are total 100 students numbered from 1 to 100. You’re given three lists named ‘C’, ‘F’, and ‘H’, representing students who play cricket, football, and hockey, respectively. Based on this information, find out and print the following:\n",
        "- Students who play all the three sports\n",
        "- Students who play both cricket and football but don’t play hockey\n",
        "- Students who play exactly two of the sports\n",
        "- Students who don’t play any of the three sports"
      ]
    },
    {
      "cell_type": "code",
      "execution_count": 2,
      "metadata": {
        "id": "qUYyRzkK1tek"
      },
      "outputs": [],
      "source": [
        "C = [7, 8, 9, 18, 20, 21, 25, 26, 27, 31, 32, 34, 35, 36, 40, 43, 45, 47, 53, 58, 62, 67, 68, 71, 72, 74, 75, 76, 80, 81, 82, 90, 93, 95, 97, 99]\n",
        "F = [1, 7, 10, 13, 16, 22, 24, 29, 30, 32, 34, 39, 40, 43, 44, 48, 56, 60, 65, 68, 69, 73, 77, 78, 90, 93, 94, 95, 96]\n",
        "H = [5, 12, 14, 17, 20, 21, 22, 25, 28, 30, 37, 38, 39, 40, 42, 44, 57, 59, 61, 62, 67, 71, 75, 76, 77, 82, 83, 86, 87, 92, 94, 95]"
      ]
    },
    {
      "cell_type": "markdown",
      "metadata": {
        "id": "l2o8fGJw1tem"
      },
      "source": [
        "#### Q1. Which are the students who play all the three sports?\n",
        "- [22, 39]\n",
        "- [39, 82]\n",
        "- [40, 95]\n",
        "- [82, 94]"
      ]
    },
    {
      "cell_type": "code",
      "source": [
        "for s in C:\n",
        "  if s in F and s in H:\n",
        "    print(s)"
      ],
      "metadata": {
        "colab": {
          "base_uri": "https://localhost:8080/"
        },
        "id": "lakCfdpG2ECI",
        "outputId": "ae8e7167-f483-4c5d-8649-d02c9be4d08e"
      },
      "execution_count": 4,
      "outputs": [
        {
          "output_type": "stream",
          "name": "stdout",
          "text": [
            "40\n",
            "95\n"
          ]
        }
      ]
    },
    {
      "cell_type": "markdown",
      "metadata": {
        "id": "ByHc902s1tem"
      },
      "source": [
        "#### Q2. Which are the players who play both cricket and hockey but don't play football?\n",
        "- [20, 21, 25, 62, 67, 71, 75, 76, 82]\n",
        "- [20, 21, 22, 25, 30, 32, 34]\n",
        "- [20, 21, 22, 25, 30, 32, 34, 39, 43, 44, 62]\n",
        "- [20, 21, 68, 71, 75, 76]"
      ]
    },
    {
      "cell_type": "code",
      "source": [
        "for s in C:\n",
        "  if s in H and s not in F:\n",
        "    print(s)"
      ],
      "metadata": {
        "colab": {
          "base_uri": "https://localhost:8080/"
        },
        "id": "jUMzhuJV2lX7",
        "outputId": "2e9c8b76-0468-4a67-d346-1b77431bce16"
      },
      "execution_count": 6,
      "outputs": [
        {
          "output_type": "stream",
          "name": "stdout",
          "text": [
            "20\n",
            "21\n",
            "25\n",
            "62\n",
            "67\n",
            "71\n",
            "75\n",
            "76\n",
            "82\n"
          ]
        }
      ]
    },
    {
      "cell_type": "markdown",
      "metadata": {
        "id": "NFbXQjGN1tem"
      },
      "source": [
        "#### Q3. How many players play exactly two sports?\n",
        "- 19\n",
        "- 20\n",
        "- 21\n",
        "- 22"
      ]
    },
    {
      "cell_type": "code",
      "source": [
        "l = C + F + H\n",
        "s_list = []\n",
        "for s in range(101):\n",
        "  if l.count(s) == 2:\n",
        "    s_list.append(s)\n",
        "print(len(s_list))"
      ],
      "metadata": {
        "colab": {
          "base_uri": "https://localhost:8080/"
        },
        "id": "hc0biBAd3y6N",
        "outputId": "bb7f0c65-61af-41fc-9ddf-700a1ef7d9e3"
      },
      "execution_count": 8,
      "outputs": [
        {
          "output_type": "stream",
          "name": "stdout",
          "text": [
            "22\n"
          ]
        }
      ]
    },
    {
      "cell_type": "markdown",
      "metadata": {
        "id": "FBUjBE-y1ten"
      },
      "source": [
        "#### Q4. Which of these students do not play any of the sports? (More than one option may be correct)\n",
        "- 41\n",
        "- 48\n",
        "- 63\n",
        "- 85"
      ]
    },
    {
      "cell_type": "code",
      "source": [
        "l = [41,48,63,85]\n",
        "\n",
        "for s in l:\n",
        "  if s not in C and s not in H and s not in F:\n",
        "    print(s)"
      ],
      "metadata": {
        "colab": {
          "base_uri": "https://localhost:8080/"
        },
        "id": "Hr4307hD4bgy",
        "outputId": "ca07162d-09e9-4346-b16b-b6b4553864e6"
      },
      "execution_count": 9,
      "outputs": [
        {
          "output_type": "stream",
          "name": "stdout",
          "text": [
            "41\n",
            "63\n",
            "85\n"
          ]
        }
      ]
    }
  ],
  "metadata": {
    "kernelspec": {
      "display_name": "Python 3",
      "language": "python",
      "name": "python3"
    },
    "language_info": {
      "codemirror_mode": {
        "name": "ipython",
        "version": 3
      },
      "file_extension": ".py",
      "mimetype": "text/x-python",
      "name": "python",
      "nbconvert_exporter": "python",
      "pygments_lexer": "ipython3",
      "version": "3.6.5"
    },
    "colab": {
      "provenance": []
    }
  },
  "nbformat": 4,
  "nbformat_minor": 0
}